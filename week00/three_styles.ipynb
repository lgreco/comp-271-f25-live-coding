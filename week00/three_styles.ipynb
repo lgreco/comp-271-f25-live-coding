{
 "cells": [
  {
   "cell_type": "markdown",
   "id": "2cf901eb",
   "metadata": {},
   "source": [
    "# Five predicate functions\n",
    "\n",
    "During our first week of class we discussed how to write a simple function to search an array for a specific function. We decided to name the function `exists`. The function returns `True` if a given value is present in the array and `False` otherwise.\n",
    "\n",
    "Our first attempt at the function is shown below."
   ]
  },
  {
   "cell_type": "code",
   "execution_count": 1,
   "id": "1d126fd7",
   "metadata": {},
   "outputs": [],
   "source": [
    "def exists_1(target: str, data: list[str]) -> bool:\n",
    "    for i in range(len(data)):\n",
    "        if data[i] == target:\n",
    "            return True\n",
    "    return False"
   ]
  },
  {
   "cell_type": "markdown",
   "id": "386c8937",
   "metadata": {},
   "source": [
    "One problem with method `exists_1` above is that it has too many `return` statements. For a method with just four lines of code (five, including the header), two `return` statements is too much. If we were required to write methods with one `return` statement at most, we may end up with the method below."
   ]
  },
  {
   "cell_type": "code",
   "execution_count": null,
   "id": "71b2e646",
   "metadata": {},
   "outputs": [],
   "source": [
    "def exists_2(target: str, data: list[str]) -> bool:\n",
    "    result = False\n",
    "    for i in range(len(data)):\n",
    "        if data[i] == target:\n",
    "            result = True\n",
    "    return result"
   ]
  },
  {
   "cell_type": "markdown",
   "id": "68e3f9c1",
   "metadata": {},
   "source": [
    "Method `exists_2` has only one `return` statement, but it's not very efficient. Imagine if list `data` has 1,000,000 elements and the `target` value we are looking for appears in `data[0]`. We'll have to wait for the loop to execute another 999,999 iterations before the method's result is returned. That's a waste of time.  \n",
    "\n",
    "The only time that the method's loop can run all the way to the last element of the array is when the match occurs at `data[len(data)-1]` (the last element of `data`) or when a match is not found.\n",
    "\n",
    "We'd like the method to stop iterating over the list and return a result as soon as a match is found. This is done with method `exists_3` below."
   ]
  },
  {
   "cell_type": "code",
   "execution_count": null,
   "id": "8b29de2c",
   "metadata": {},
   "outputs": [],
   "source": [
    "def exists_3(target: str, data: list[str]) -> bool:\n",
    "    result = False\n",
    "    for i in range(len(data)):\n",
    "        if data[i] == target:\n",
    "            result = True\n",
    "            break\n",
    "    return result"
   ]
  },
  {
   "cell_type": "markdown",
   "id": "6546bde5",
   "metadata": {},
   "source": [
    "Method `exists_3` above uses a single `return` statement. The `for` loop is stopped as soon as a match is found, saving us some time from further unecessary comparisons. But there is still a problem, because according to the [Programmers Pact](../ProgrammerPact_Python.pdf) we **cannot use `break`!**\n",
    "\n",
    "`for` loops have a beginning value, an ending value, and an increment value. The formal statement for the loop in the previous three methods above is:\n",
    "\n",
    "```python\n",
    "for i in range(0, len(data), 1):\n",
    "```\n",
    "\n",
    "The loop instructs the code within its scope to execute a specific number of times - in this case as many times as the elements in list `data`. In pseudocode, the `for` loop can be written as:\n",
    "\n",
    "\\begin{align*}\n",
    "& i \\leftarrow 0 \\\\\n",
    "& \\textbf{while}\\ \\color{brown}{i < \\text{len}(\\texttt{data})} \\\\\n",
    "& \\qquad \\text{do something} \\\\\n",
    "& \\qquad i \\leftarrow i+1\n",
    "\\end{align*}\n",
    "\n",
    "There is only one condition to end the loop above: when $i\\ {\\color{red} \\geq}\\ {\\text{len}(\\texttt{data})}$. If we wish to end the loop under some other circumstances, it may be a good idea to express them explicitly than using the abrupt termination of the `break` statement. This approach is shown in method `exists_4` below."
   ]
  },
  {
   "cell_type": "code",
   "execution_count": null,
   "id": "2c18b0db",
   "metadata": {},
   "outputs": [],
   "source": [
    "def exists_4(target: str, data: list[str]) -> bool:\n",
    "    found = False\n",
    "    i = 0\n",
    "    while not found and i < len(data):\n",
    "        found = data[i] == target\n",
    "        i += 1\n",
    "    return found"
   ]
  },
  {
   "cell_type": "markdown",
   "id": "d9f15f0b",
   "metadata": {},
   "source": [
    "The `for` loop of the previous methods is replaced with a `while` loop that has two ending conditions. The first condition stops the loop when variable `found` becomes `True` and therefore `not found` becomes `False`. The second condition stops the loop when we reach the end of list `data`.\n",
    "\n",
    "The method initializes `found` to `False`, therefore `not found` is `True`. Also with `i` initialized to 0, the condition `i < len(data)` is evaluated as `True`. With both its conditions set to `True` initially, the `while` loop in method `exists_4` begins its work. It will end as soon as a match is found or it runs out of list elements to consider.\n",
    "\n",
    "There is no clumsy `break` statement and our intent as to when the loop ends is stated clearly.\n",
    "\n",
    "Still the code can be improved a bit. We assumed so far that list `data` has some values in it, so that the condition `i < len(data)` will always evaluate to `True` when `i==0`. Malicious or accidental use of the method may introduce faulty arguments -- for example an empty list or even a variable called `data` that is not a list. We can guard our code from such these argument errors, as shown below."
   ]
  },
  {
   "cell_type": "code",
   "execution_count": null,
   "id": "ccc2c07d",
   "metadata": {},
   "outputs": [],
   "source": [
    "def exists_5(target: str, data: list[str]) -> bool:\n",
    "    if target is None:\n",
    "        raise ValueError(\"Argument 'target' cannot be None\")\n",
    "    if (data) is None:\n",
    "        raise ValueError(\"Argument 'data' cannot be None\")\n",
    "    if not isinstance(data, list):\n",
    "        raise ValueError(\"Argument 'data' must be a list\")\n",
    "    if len(data) == 0:\n",
    "        raise ValueError(\"List 'data' cannot be empty\")\n",
    "    found = False\n",
    "    i = 0\n",
    "    while not found and i < len(data):\n",
    "        found = data[i] == target\n",
    "        i += 1\n",
    "    return found"
   ]
  },
  {
   "cell_type": "markdown",
   "id": "a4d534f3",
   "metadata": {},
   "source": [
    "In the context of a data structures course, we generally do not worry too much about invalid arguments. This means we don’t always need to include all the defensive guard statements shown in the method `exists_5`. Those statements are presented here mainly for illustrative purposes, to emphasize that beyond correct logic, real-world methods require additional engineering to make them safe and secure.  \n",
    "\n",
    "The code snippets above contain no inline comments—contrary to the guidelines of the [Programmer’s Pact](../ProgrammerPact_Python.pdf). This is intentional: the code was first written and explained live in class, and the accompanying prose in this notebook now serves as the documentation.  \n",
    "\n",
    "Finally, we use the term **array** here somewhat loosely. Python does not implement arrays in the same way as languages like C or Java. Instead, it provides *lists*. Formally, an array is a finite, ordered collection of elements of the same data type, stored in contiguous memory locations and accessed by an index (or subscript) that uniquely identifies each element’s position. For our purposes, as long as the Python lists we use contain elements of a single data type, we can treat them as arrays within this course.  \n"
   ]
  }
 ],
 "metadata": {
  "kernelspec": {
   "display_name": "Python 3",
   "language": "python",
   "name": "python3"
  },
  "language_info": {
   "codemirror_mode": {
    "name": "ipython",
    "version": 3
   },
   "file_extension": ".py",
   "mimetype": "text/x-python",
   "name": "python",
   "nbconvert_exporter": "python",
   "pygments_lexer": "ipython3",
   "version": "3.12.1"
  }
 },
 "nbformat": 4,
 "nbformat_minor": 5
}

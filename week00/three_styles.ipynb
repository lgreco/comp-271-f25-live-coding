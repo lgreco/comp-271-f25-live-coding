{
 "cells": [
  {
   "cell_type": "markdown",
   "id": "2cf901eb",
   "metadata": {},
   "source": [
    "# Predicate function\n",
    "\n",
    "During our first week of class we discussed how to write a simple function to search an array for a specific function. We decided to name the function `exists`. The function returns `True` if a given value is present in the array and `False` otherwise.\n",
    "\n",
    "Our first attempt at the function is shown below."
   ]
  },
  {
   "cell_type": "code",
   "execution_count": 1,
   "id": "1d126fd7",
   "metadata": {},
   "outputs": [],
   "source": [
    "def exists_1(target: str, data: str) -> bool:\n",
    "    for i in range(len(data)):\n",
    "        if data[i] == target:\n",
    "            return True\n",
    "    return False"
   ]
  },
  {
   "cell_type": "markdown",
   "id": "386c8937",
   "metadata": {},
   "source": [
    "One problem with method `exists_1` above is that it has too many `return` statements. For a method with just five lines of code (six, including the header), two `return` statements is too much."
   ]
  },
  {
   "cell_type": "code",
   "execution_count": 2,
   "id": "71b2e646",
   "metadata": {},
   "outputs": [],
   "source": [
    "def exists_2(target: str, data: str) -> bool:\n",
    "    result = False\n",
    "    for i in range(len(data)):\n",
    "        if data[i] == target:\n",
    "            result = True\n",
    "            break\n",
    "    return result"
   ]
  },
  {
   "cell_type": "code",
   "execution_count": null,
   "id": "2c18b0db",
   "metadata": {},
   "outputs": [],
   "source": [
    "def exists_3(target: str, data: str) -> bool:\n",
    "    found = False\n",
    "    i = 0\n",
    "    while not found and i < len(data):\n",
    "        found = data[i] == target\n",
    "        i += 1\n",
    "    return found"
   ]
  },
  {
   "cell_type": "code",
   "execution_count": 3,
   "id": "ccc2c07d",
   "metadata": {},
   "outputs": [],
   "source": [
    "def exists_4(target: str, data: str) -> bool:\n",
    "    if target is None:\n",
    "        raise ValueError(\"Argument 'target' cannot be None\")\n",
    "    if (data) is None:\n",
    "        raise ValueError(\"Argument 'data' cannot be None\")\n",
    "    if not isinstance(data, list):\n",
    "        raise ValueError(\"Argument 'data' must be a list\")\n",
    "    if len(data) == 0:\n",
    "        raise ValueError(\"List 'data' cannot be empty\")\n",
    "    found = False\n",
    "    i = 0\n",
    "    while not found and i < len(data):\n",
    "        found = data[i] == target\n",
    "        i += 1\n",
    "    return found"
   ]
  }
 ],
 "metadata": {
  "kernelspec": {
   "display_name": "Python 3",
   "language": "python",
   "name": "python3"
  },
  "language_info": {
   "codemirror_mode": {
    "name": "ipython",
    "version": 3
   },
   "file_extension": ".py",
   "mimetype": "text/x-python",
   "name": "python",
   "nbconvert_exporter": "python",
   "pygments_lexer": "ipython3",
   "version": "3.12.1"
  }
 },
 "nbformat": 4,
 "nbformat_minor": 5
}

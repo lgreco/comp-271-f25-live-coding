{
 "cells": [
  {
   "cell_type": "markdown",
   "id": "05c728b3",
   "metadata": {},
   "source": [
    "# Funny Person"
   ]
  },
  {
   "cell_type": "code",
   "execution_count": 1,
   "id": "02302cb7",
   "metadata": {},
   "outputs": [
    {
     "name": "stdout",
     "output_type": "stream",
     "text": [
      "Hello, my name is Alice and I am 30 years old.\n",
      "Hello, my name is Bob and I am 25 years old.\n",
      "Hello, my name is Charlie and I am 35 years old.\n",
      "True\n",
      "False\n"
     ]
    }
   ],
   "source": [
    "class Person:\n",
    "    def __init__(self, name, age):\n",
    "        self.name = name\n",
    "        self.age = age\n",
    "\n",
    "    def greet(self):\n",
    "        return f\"Hello, my name is {self.name} and I am {self.age} years old.\"\n",
    "    \n",
    "    def count_consonants(self):\n",
    "        consonants = set(\"bcdfghjklmnpqrstvwyzBCDFGHJKLMNPQRSTVWXZ\")\n",
    "        return sum(1 for char in self.name if char in consonants)\n",
    "    \n",
    "    def __eq__(self, other):\n",
    "        result = False\n",
    "        if isinstance(other, Person):\n",
    "            result = self.count_consonants() == other.count_consonants()\n",
    "        return result\n",
    "# Example usage:\n",
    "if __name__ == \"__main__\":\n",
    "    alice = Person(\"Alice\", 30)\n",
    "    bob = Person(\"Bob\", 25)\n",
    "    charlie = Person(\"Charlie\", 35)\n",
    "\n",
    "    print(alice.greet())  # Output: Hello, my name is Alice and I am 30 years old.\n",
    "    print(bob.greet())    # Output: Hello, my name is Bob and I am 25 years old.\n",
    "    print(charlie.greet())# Output: Hello, my name is Charlie and I am 35 years old.\n",
    "\n",
    "    print(alice == bob)      # Output: False (Alice has 3 consonants, Bob has 2)\n",
    "    print(alice == charlie)  # Output: True (Both have 3 consonants)"
   ]
  },
  {
   "cell_type": "code",
   "execution_count": 5,
   "id": "8182f8fe",
   "metadata": {},
   "outputs": [
    {
     "name": "stdout",
     "output_type": "stream",
     "text": [
      "True\n",
      "False\n"
     ]
    }
   ],
   "source": [
    "class Funny_Person:\n",
    "    def __init__(self, name, age):\n",
    "        self.name = name\n",
    "        self.age = age\n",
    "    \n",
    "\n",
    "    def count_consonants(self):\n",
    "        consonants = set(\"bcdfghjklmnpqrstvwyzBCDFGHJKLMNPQRSTVWXZ\")\n",
    "        return sum(1 for char in self.name if char in consonants)\n",
    "    \n",
    "\n",
    "    def __lt__(self, other):\n",
    "        result = False\n",
    "        if isinstance(other, Funny_Person):\n",
    "            result = self.count_consonants < other.count_consonants\n",
    "        return result\n",
    "    \n",
    "    def __eq__(self, other):\n",
    "        result = False\n",
    "        if isinstance(other, Funny_Person):\n",
    "            result = not self.count_consonants() > other.count_consonants() and not self.count_consonants() < other.count_consonants()  \n",
    "        return result\n",
    "    \n",
    "\n",
    "if __name__ == \"__main__\":\n",
    "    alice = Funny_Person(\"Alice\", 30)\n",
    "    bob = Funny_Person(\"Bob\", 25)\n",
    "    charlie = Funny_Person(\"Charlie\", 35)\n",
    "\n",
    "    print(alice == bob)      # Output: False (Alice has 3 consonants, Bob has 2)\n",
    "    print(alice == charlie)"
   ]
  }
 ],
 "metadata": {
  "kernelspec": {
   "display_name": "Python 3",
   "language": "python",
   "name": "python3"
  },
  "language_info": {
   "codemirror_mode": {
    "name": "ipython",
    "version": 3
   },
   "file_extension": ".py",
   "mimetype": "text/x-python",
   "name": "python",
   "nbconvert_exporter": "python",
   "pygments_lexer": "ipython3",
   "version": "3.12.1"
  }
 },
 "nbformat": 4,
 "nbformat_minor": 5
}

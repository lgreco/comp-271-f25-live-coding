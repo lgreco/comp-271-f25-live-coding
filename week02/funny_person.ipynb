{
 "cells": [
  {
   "cell_type": "markdown",
   "id": "05c728b3",
   "metadata": {},
   "source": [
    "# Funny Person"
   ]
  },
  {
   "cell_type": "code",
   "execution_count": null,
   "id": "02302cb7",
   "metadata": {},
   "outputs": [],
   "source": [
    "class Person:\n",
    "    def __init__(self, name, age):\n",
    "        self.name = name\n",
    "        self.age = age\n",
    "\n",
    "    def greet(self):\n",
    "        return f\"Hello, my name is {self.name} and I am {self.age} years old.\"\n",
    "    \n",
    "    def count_consonants(self):\n",
    "        consonants = set(\"bcdfghjklmnpqrstvwyzBCDFGHJKLMNPQRSTVWXZ\")\n",
    "        return sum(1 for char in self.name if char in consonants)\n",
    "    \n",
    "    def __eq__(self, other):\n",
    "        result = False\n",
    "        if isinstance(other, Person):\n",
    "            result = self.count_consonants() == other.count_consonants()\n",
    "        return result"
   ]
  }
 ],
 "metadata": {
  "language_info": {
   "name": "python"
  }
 },
 "nbformat": 4,
 "nbformat_minor": 5
}

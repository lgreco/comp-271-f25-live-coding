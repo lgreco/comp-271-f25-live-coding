{
 "cells": [
  {
   "cell_type": "markdown",
   "id": "fb905806",
   "metadata": {},
   "source": [
    "# Objects - Part II\n",
    "\n",
    "Objects can be organized in hierarchies. A hierarchy is a top-to-bottom structure where elements near the top have more authority than elements below them. The word is Greek, of course, and it is used to describe the structure of a religious congregation - the root of the word is *ιερός* which means sacred. \n",
    "\n",
    "In Christianity for example, multiple priests report to a bishop, multiple bishops to an archbishop, and so on. Hierarchical structures have a apex point: the Pope in the Catholic Church or a Patriarch in Eastern Churches.\n",
    "\n",
    "Hierarchies exist in military, corporate, political, and many social structures as well. Physical and biological sciences as well as mathematics, legal studies, and the humanities have all hierarchies. Naturally, computing has also hierachies.\n",
    "\n",
    "The first hiearachy we experience as computer users is typically the file system. There is a folder called *Documents*. There we have folders for our *CourseWork*, *LettersToFriend*, etc. Inside the coursework folder there may be folders for *COMP 271*, *ENG 202*, etc.\n",
    "\n",
    "In many cases, object-oriented programs can be organized hierarchically. For example, if we need to create objects for *students* and *faculty* we may recognize that they have shared characteristics like names, dates of birth, gender, email address, etc. They may also have distinctive characteristics: for example, a student typically is not an employee of the university while a professor is.\n",
    "\n",
    "The shared characteristics can be part of an object higher in the hierarchy called `Person`. And both `Student` and `Faculty` objects *inherit* the characteristics of a person: name, date of birth, etc. Then, on top of these shared characteristics they add their own distinct ones.\n",
    "\n",
    "Objects for different animals also form a hierarchy. Let's consider four different species: dogs, cats, programmers, and professors. A shared characteristic of these creatures is that they all have names: Fluffy the dog, Whiskers the cat, Alice the programmer, and Leo the professor. These animals also make sounds. A dog barks, for example. Occassionally, so do professors.\n",
    "\n",
    "The common characteristics of these four animals can be grouped together in a class called `Animal`, shown below."
   ]
  },
  {
   "cell_type": "code",
   "execution_count": null,
   "id": "7e8a4507",
   "metadata": {},
   "outputs": [],
   "source": [
    "class Animal:\n",
    "    \"\"\"Simple superclass for various animals. The class provides a \n",
    "    common interface with a speak method and a name attribute.\"\"\"\n",
    "\n",
    "    sound = \"Some generic animal sound...\"\n",
    "\n",
    "    def __init__(self, name: str):\n",
    "        \"\"\"Initialize the animal with a name.\"\"\"\n",
    "        self.name = name\n",
    "\n",
    "    def speak(self):\n",
    "        \"\"\"Return a generic animal sound based on a given string\"\"\"\n",
    "        # Using self.sound allows both instance-level sound\n",
    "        return f\"{self.name}: {self.sound}\""
   ]
  },
  {
   "cell_type": "markdown",
   "id": "f02c4779",
   "metadata": {},
   "source": [
    "We can use class `Animal` as a template for other classes. Consider a class for owls:\n",
    "```python\n",
    "class Owl(Animal):\n",
    "    sound = \"hoo-hoo hoo-hoo\"\n",
    "```\n",
    "\n",
    "The class name (`Owl`) is followed by an argument (`Animal`) that indicates the higher-level class -- the *superclass* as it is called. An `Owl` object is primarily an `Animal` object. Owls make a sound that sounds like \"hoo hoo\".\n",
    "\n",
    "If you are familiar with the Harry Potter stories, there are two famous owls:\n",
    "```python\n",
    "harry_potter_owl = Owl(\"Hedwig\")\n",
    "weasley_family_owl = Owl(\"Errol\")\n",
    "```\n",
    "\n",
    "When creatinng objects for Hedwig and Errol, we pass a string with their names to the `Owl` object. Class `Owl` however does not have an `__init__` method, so how does it handle the argument passed to it? By using the `__init__` method of its superclass. When we defined the `Owl` class as\n",
    "```python\n",
    "class Own(Animal)\n",
    "```\n",
    "we passed -- by reference -- all the `Animal` methods to the `Owl` class. That's inheritance.\n",
    "\n",
    "Let's create a few more animals to demonstrate inherited behavior."
   ]
  },
  {
   "cell_type": "code",
   "execution_count": null,
   "id": "8458d63f",
   "metadata": {},
   "outputs": [],
   "source": [
    "# A few animal classes with speak methods\n",
    "\n",
    "class Dog(Animal):\n",
    "    sound = \"Woof! 🐶\"\n",
    "\n",
    "class Cat(Animal):\n",
    "    sound = \"Meow! 😺\"\n",
    "\n",
    "class Programmer(Animal):\n",
    "    sound = \"I need more coffee... ☕️\"\n",
    "\n",
    "class Professor(Animal):\n",
    "    sound = \"As you can clearly see on this 372-slide presentation... 📊\""
   ]
  },
  {
   "cell_type": "markdown",
   "id": "81f8637b",
   "metadata": {},
   "source": [
    "All four classes above are animals, of one sort or another. They comprise a `sound` property whose use is defined in their superclass `Animal`."
   ]
  },
  {
   "cell_type": "code",
   "execution_count": null,
   "id": "021cc057",
   "metadata": {},
   "outputs": [
    {
     "name": "stdout",
     "output_type": "stream",
     "text": [
      "Buddy: Woof! 🐶\n",
      "Whiskers: Meow! 😺\n",
      "Alice: I need more coffee... ☕️\n",
      "Leo: As you can clearly see on this 372-slide presentation... 📊\n"
     ]
    }
   ],
   "source": [
    "# Create a zoo of named creatures\n",
    "zoo = [\n",
    "    Dog(\"Fluffy\"),\n",
    "    Cat(\"Whiskers\"),\n",
    "    Programmer(\"Alice\"),\n",
    "    Professor(\"Leo\")\n",
    "]\n",
    "\n",
    "for creature in zoo:\n",
    "    print(creature.speak())"
   ]
  }
 ],
 "metadata": {
  "kernelspec": {
   "display_name": "Python 3",
   "language": "python",
   "name": "python3"
  },
  "language_info": {
   "codemirror_mode": {
    "name": "ipython",
    "version": 3
   },
   "file_extension": ".py",
   "mimetype": "text/x-python",
   "name": "python",
   "nbconvert_exporter": "python",
   "pygments_lexer": "ipython3",
   "version": "3.12.1"
  }
 },
 "nbformat": 4,
 "nbformat_minor": 5
}

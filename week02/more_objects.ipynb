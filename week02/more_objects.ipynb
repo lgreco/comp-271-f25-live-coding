{
 "cells": [
  {
   "cell_type": "markdown",
   "id": "fb905806",
   "metadata": {},
   "source": [
    "# Objects - Part II\n",
    "\n",
    "Objects can be organized in hierarchies. A hierarchy is a top-to-bottom structure where elements near the top have more authority than elements below them. The word is Greek, of course, and it is used to describe the structure of a religious congregation - the root of the word is *ιερός* which means sacred. \n",
    "\n",
    "In Christianity for example, multiple priests report to a bishop, multiple bishops to an archbishop, and so on. Hierarchical structures have a apex point: the Pope in the Catholic Church or a Patriarch in Eastern Churches.\n",
    "\n",
    "Hierarchies exist in military, corporate, political, and many social structures as well. Physical and biological sciences as well as mathematics, legal studies, and the humanities have all hierarchies. "
   ]
  },
  {
   "cell_type": "code",
   "execution_count": null,
   "id": "7e8a4507",
   "metadata": {},
   "outputs": [],
   "source": [
    "class Animal:\n",
    "    \"\"\"Simple superclass for various animals. The class provides a \n",
    "    common interface with a speak method and a name attribute.\"\"\"\n",
    "\n",
    "    sound = \"Some generic animal sound...\"\n",
    "\n",
    "    def __init__(self, name: str):\n",
    "        \"\"\"Initialize the animal with a name.\"\"\"\n",
    "        self.name = name\n",
    "\n",
    "    def speak(self):\n",
    "        \"\"\"Return a generic animal sound based on a given string\"\"\"\n",
    "        # Using self.sound allows both instance-level sound\n",
    "        return f\"{self.name}: {self.sound}\""
   ]
  },
  {
   "cell_type": "code",
   "execution_count": 2,
   "id": "8458d63f",
   "metadata": {},
   "outputs": [],
   "source": [
    "# A few animal classes with speak methods\n",
    "\n",
    "class Dog(Animal):\n",
    "    sound = \"Woof! 🐶\"\n",
    "\n",
    "class Cat(Animal):\n",
    "    sound = \"Meow! 😺\"\n",
    "\n",
    "class Programmer(Animal):\n",
    "    sound = \"I need more coffee... ☕️\"\n",
    "\n",
    "class CollegeProfessor(Animal):\n",
    "    sound = \"As you can clearly see on this 372-slide presentation... 📊\""
   ]
  },
  {
   "cell_type": "code",
   "execution_count": 3,
   "id": "021cc057",
   "metadata": {},
   "outputs": [
    {
     "name": "stdout",
     "output_type": "stream",
     "text": [
      "Buddy: Woof! 🐶\n",
      "Whiskers: Meow! 😺\n",
      "Alice: I need more coffee... ☕️\n",
      "Leo: As you can clearly see on this 372-slide presentation... 📊\n"
     ]
    }
   ],
   "source": [
    "# Create a zoo of named creatures\n",
    "zoo = [\n",
    "    Dog(\"Buddy\"),\n",
    "    Cat(\"Whiskers\"),\n",
    "    Programmer(\"Alice\"),\n",
    "    CollegeProfessor(\"Leo\"),\n",
    "]\n",
    "\n",
    "for creature in zoo:\n",
    "    print(creature.speak())"
   ]
  }
 ],
 "metadata": {
  "kernelspec": {
   "display_name": "Python 3",
   "language": "python",
   "name": "python3"
  },
  "language_info": {
   "codemirror_mode": {
    "name": "ipython",
    "version": 3
   },
   "file_extension": ".py",
   "mimetype": "text/x-python",
   "name": "python",
   "nbconvert_exporter": "python",
   "pygments_lexer": "ipython3",
   "version": "3.12.1"
  }
 },
 "nbformat": 4,
 "nbformat_minor": 5
}

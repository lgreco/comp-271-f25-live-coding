{
 "cells": [
  {
   "cell_type": "markdown",
   "id": "fb905806",
   "metadata": {},
   "source": [
    "# Objects - Part II\n",
    "\n",
    "Objects can be organized in hierarchies. A hierarchy is a top-to-bottom structure where elements near the top have more authority than elements below them. The word is Greek, of course, and it is used to describe the structure of a religious congregation - the root of the word is *ιερός* which means sacred. \n",
    "\n",
    "In Christianity for example, multiple priests report to a bishop, multiple bishops to an archbishop, and so on. Hierarchical structures have a apex point: the Pope in the Catholic Church or a Patriarch in Eastern Churches.\n",
    "\n",
    "Hierarchies exist in military, corporate, political, and many social structures as well. Physical and biological sciences as well as mathematics, legal studies, and the humanities have all hierarchies. Naturally, computing has also hierachies.\n",
    "\n",
    "The first hiearachy we experience as computer users is typically the file system. There is a folder called *Documents*. There we have folders for our *CourseWork*, *LettersToFriend*, etc. Inside the coursework folder there may be folders for *COMP 271*, *ENG 202*, etc.\n",
    "\n",
    "In many cases, object-oriented programs can be organized hierarchically. For example, if we need to create objects for *students* and *faculty* we may recognize that they have shared characteristics like names, dates of birth, gender, email address, etc. They may also have distinctive characteristics: for example, a student typically is not an employee of the university while a professor is.\n",
    "\n",
    "The shared characteristics can be part of an object higher in the hierarchy called `Person`. And both `Student` and `Faculty` objects *inherit* the characteristics of a person: name, date of birth, etc. Then, on top of these shared characteristics they add their own distinct ones.\n",
    "\n",
    "Objects for different animals also form a hierarchy. Let's consider four different species: dogs, cats, programmers, and professors. A shared characteristic of these creatures is that they all have names: Fluffy the dog, Whiskers the cat, Alice the programmer, and Leo the professor. These animals also make sounds. A dog barks, for example. Occassionally, so do professors.\n",
    "\n",
    "The common characteristics of these four animals can be grouped together in a class called `Animal`, shown below."
   ]
  },
  {
   "cell_type": "code",
   "execution_count": 6,
   "id": "7e8a4507",
   "metadata": {},
   "outputs": [],
   "source": [
    "class Animal:\n",
    "    \"\"\"Simple superclass for various animals. The class provides a \n",
    "    common interface with a speak method and a name attribute.\"\"\"\n",
    "\n",
    "    sound = \"Some generic animal sound...\"\n",
    "\n",
    "    def __init__(self, name: str):\n",
    "        \"\"\"Initialize the animal with a name.\"\"\"\n",
    "        self.name = name\n",
    "\n",
    "    def speak(self):\n",
    "        \"\"\"Return a generic animal sound based on a given string\"\"\"\n",
    "        # Using self.sound allows both instance-level sound\n",
    "        return f\"{self.name}: {self.sound}\""
   ]
  },
  {
   "cell_type": "markdown",
   "id": "f02c4779",
   "metadata": {},
   "source": [
    "We can use class `Animal` as a template for other classes. Consider a class for owls:\n",
    "```python\n",
    "class Owl(Animal):\n",
    "    sound = \"hoo-hoo hoo-hoo\"\n",
    "```\n",
    "\n",
    "The class name (`Owl`) is followed by an argument (`Animal`) that indicates the higher-level class -- the *superclass* as it is called. An `Owl` object is primarily an `Animal` object. Owls make a sound that sounds like \"hoo hoo\".\n",
    "\n",
    "If you are familiar with the Harry Potter stories, there are two famous owls:\n",
    "```python\n",
    "harry_potter_owl = Owl(\"Hedwig\")\n",
    "weasley_family_owl = Owl(\"Errol\")\n",
    "```\n",
    "\n",
    "When creatinng objects for Hedwig and Errol, we pass a string with their names to the `Owl` object. Class `Owl` however does not have an `__init__` method, so how does it handle the argument passed to it? By using the `__init__` method of its superclass. When we defined the `Owl` class as\n",
    "```python\n",
    "class Own(Animal)\n",
    "```\n",
    "we passed -- by reference -- all the `Animal` methods to the `Owl` class. That's inheritance.\n",
    "\n",
    "Let's create a few more animals to demonstrate inherited behavior."
   ]
  },
  {
   "cell_type": "code",
   "execution_count": 7,
   "id": "8458d63f",
   "metadata": {},
   "outputs": [],
   "source": [
    "# A few animal classes with speak methods\n",
    "\n",
    "class Dog(Animal):\n",
    "    sound = \"Woof! 🐶\"\n",
    "\n",
    "class Cat(Animal):\n",
    "    sound = \"Meow! 😺\"\n",
    "\n",
    "class Programmer(Animal):\n",
    "    sound = \"I need more coffee... ☕️\"\n",
    "\n",
    "class Professor(Animal):\n",
    "    sound = \"As you can clearly see on this 372-slide presentation... 📊\""
   ]
  },
  {
   "cell_type": "markdown",
   "id": "81f8637b",
   "metadata": {},
   "source": [
    "All four classes above are animals, of one sort or another. They comprise a `sound` property whose use is defined in their superclass `Animal`. The superclass also includes a `name` property that is required for object instantiation. \n",
    "\n",
    "The code below instantiates four `Animal` objects and places them in a properly named array. Then we iterate over the array, asking each of its creatures to \"speak\"."
   ]
  },
  {
   "cell_type": "code",
   "execution_count": null,
   "id": "021cc057",
   "metadata": {},
   "outputs": [],
   "source": [
    "# Create a zoo of named creatures\n",
    "zoo = [\n",
    "    Dog(\"Fluffy\"),\n",
    "    Cat(\"Whiskers\"),\n",
    "    Programmer(\"Alice\"),\n",
    "    Professor(\"Leo\")\n",
    "]\n",
    "\n",
    "for creature in zoo:\n",
    "    print(creature.speak())"
   ]
  },
  {
   "cell_type": "markdown",
   "id": "d0ad012c",
   "metadata": {},
   "source": [
    "Inheritance lets us build classes in layers of specialization. \n",
    "\n",
    "A base class defines general attributes and behaviors common to all objects in a domain. Subclasses extend or override these features, adding more specific properties or refining functionality. This hierarchy allows code reuse, avoids duplication, and makes relationships explicit: each level inherits the essentials from above while focusing only on what makes it unique. \n",
    "\n",
    "This support of progressive refinement allows us to model complex systems clearly and efficiently.\n",
    "\n",
    "Python objects can inherit multiple classes. Even when the superclasses have conflicting behaviors, as shown in the example below."
   ]
  },
  {
   "cell_type": "code",
   "execution_count": null,
   "id": "b984b1e9",
   "metadata": {},
   "outputs": [],
   "source": [
    "class Flyer:\n",
    "    def move(self):\n",
    "        print(\"I can fly!\")\n",
    "\n",
    "class Swimmer:\n",
    "    def move(self):\n",
    "        print(\"I can swim!\")\n",
    "\n",
    "class Duck(Flyer, Swimmer):\n",
    "    pass\n",
    "\n",
    "class Penguin(Swimmer, Flyer):\n",
    "    pass\n",
    "\n",
    "d = Duck()\n",
    "d.move()  # \"I can fly!\" (Flyer is first in the inheritance list)\n",
    "\n",
    "p = Penguin()\n",
    "p.move()  # \"I can swim!\" (Swimmer is first in the inheritance list) "
   ]
  },
  {
   "cell_type": "markdown",
   "id": "ca99b5ee",
   "metadata": {},
   "source": [
    "A class that inherits a superclass is called a subclass or a derived class. In the example above, classes `Swimmer` and `Flyer` are superclasses. Classes `Duck` and `Penguin` are subclasses."
   ]
  },
  {
   "cell_type": "markdown",
   "id": "3c6e7621",
   "metadata": {},
   "source": [
    "In addition to the abstraction and layering that inheritance provides, program design is enhanced further by *software contracts.* These are required specifications that dictate what methods a class should implement, while leaving the implementation details to the developers.\n",
    "\n",
    "Between inheritance and contracts, we have at our disposal some powerful tools to write reliable, reusable code. We'll explore these topics in the course, but only superficially. An in-depth review of design by contract is best left for more advanced programming courses.\n",
    "\n",
    "In Python, contracts are implemented as *Abstract Base Classes* (ABC). Using the example of class `Animal` above, we could have written it as an abstract base class:"
   ]
  },
  {
   "cell_type": "code",
   "execution_count": null,
   "id": "fc08c37c",
   "metadata": {},
   "outputs": [],
   "source": [
    "from abc import ABC, abstractmethod\n",
    "\n",
    "class Animal(ABC):\n",
    "    @abstractmethod\n",
    "    def speak(self):\n",
    "        \"\"\"Subclasses must implement this method\"\"\"\n",
    "        pass\n",
    "\n",
    "\n",
    "# Concrete subclasses\n",
    "class Dog(Animal):\n",
    "    def speak(self):\n",
    "        return \"Woof!\"\n",
    "\n",
    "class Cat(Animal):\n",
    "    def speak(self):\n",
    "        return \"Meow!\"\n",
    "\n",
    "# Example usage\n",
    "animals = [Dog(), Cat()]\n",
    "for a in animals:\n",
    "    print(a.speak())"
   ]
  },
  {
   "cell_type": "markdown",
   "id": "cb74ba99",
   "metadata": {},
   "source": [
    "In object-oriented programming (OOP), there are two main ways to work with objects:\n",
    "\n",
    "Invocation – You use an object by calling its methods (e.g., obj.do_something()). With polymorphism, the same method name can do different things depending on the object’s type.\n",
    "\n",
    "Inspection – You examine an object from the outside (its type, attributes, etc.) to decide how to treat it.\n",
    "\n",
    "Conventional widsom says invocation is good and inspection is bad, because inspection feels like old procedural programming. But in practice—especially in Python—inspection is often useful and sometimes necessary. For example, you may want to process objects in ways the class designer didn’t anticipate.\n",
    "\n",
    "The problem with inspection is that it can be messy: you can check for base classes, look for certain methods, or test attributes, but none of these are foolproof. To solve this, Python offers Abstract Base Classes (ABCs).\n",
    "\n",
    "[ABCs were introduced in 2007](https://peps.python.org/pep-3119/). Objects inheriting from ABC classes advertise, upon inspection, that they posses the behavior promised in the ABC."
   ]
  },
  {
   "cell_type": "markdown",
   "id": "a1899cf2",
   "metadata": {},
   "source": [
    "# Practical considerations \n",
    "\n",
    "why is this stuff important? Imagine that we design a series of applications to organize and track data. One application may be intended to be a dictionary of the Elvish languages. Another application may be the seating reservation system for a small airline. Another application may be the scheduling program for a railway, etc. \n",
    "\n",
    "These applications may use different data structures. And yet we expect them to have some common behavior: for example, someone may wish to look up the word *ecthelion*. A passenger may want to look up their seat assignment on an upcoming flight. And a train dispatcher may want to see what time a train arrives at a specific station.\n",
    "\n",
    "All these tasks have something in common: the expect our applications to have search capabilities. *Find* a word. *Find* a passenger record. *Find* a train station. And so we decide that every data structure we develop must have a `find` method. This requirement is communicated as a contract - as an *abstract base class* in Python."
   ]
  },
  {
   "cell_type": "code",
   "execution_count": null,
   "id": "17584891",
   "metadata": {},
   "outputs": [],
   "source": [
    "from abc import ABC, abstractmethod\n",
    "from typing import Any\n",
    "\n",
    "class LoyolaSoftwareCorporation(ABC):\n",
    "    \"\"\"This abstract class must be extended by every class written by\n",
    "    the wonderful employees of the Loyola Software Corporation. Otherwise\n",
    "    salaries will be reduced, work hours extended, and cafeteria menu\n",
    "    will be limited to microwaved broccoli (with no cheese).\"\"\"\n",
    "\n",
    "    @abstractmethod\n",
    "    def exists(self, target: Any) -> bool:\n",
    "        \"\"\"Look for the target value in the underlying data structure.\n",
    "        Returns True if found, False if not — basically like checking if\n",
    "        your homework is in your backpack or still on the kitchen table.\n",
    "        Warning: if you forget to implement this method, the interpreter\n",
    "        ghosts you harder than your high school crush.\"\"\"\n",
    "        pass\n"
   ]
  },
  {
   "cell_type": "markdown",
   "id": "07c580e5",
   "metadata": {},
   "source": [
    "The contract can then be executed the app we develop. For example:"
   ]
  },
  {
   "cell_type": "code",
   "execution_count": null,
   "id": "c4e1e376",
   "metadata": {},
   "outputs": [],
   "source": [
    "class OfficeGossip(LoyolaSoftwareCorporation):\n",
    "    \"\"\"Implements the sacred art of gossip-based searching.\n",
    "    If your target is in the rumor mill, this class will find it\n",
    "    faster than Karen from HR finds out who took her stapler.\"\"\"\n",
    "\n",
    "    def __init__(self, gossip: list[Any]) -> None:\n",
    "        # Gossip spreads fast, but we still store it in a list\n",
    "        self.gossip = gossip\n",
    "\n",
    "    def exists(self, target: Any) -> bool:\n",
    "        \"\"\"Return True if the target is part of today's office gossip.\n",
    "        False if nobody cares... yet.\"\"\"\n",
    "        return target in self.gossip\n",
    "\n",
    "\n",
    "# Example usage:\n",
    "rumor_mill = OfficeGossip([\n",
    "    \"CEO is going to a Coldplay concert\",\n",
    "    \"IT guy lives in the server room\",\n",
    "    \"Cafeteria finally got tacos\"\n",
    "])\n",
    "\n",
    "print(rumor_mill.exists(\"CEO bought a yacht\"))   # True\n",
    "print(rumor_mill.exists(\"Unlimited vacation\"))   # False"
   ]
  },
  {
   "cell_type": "markdown",
   "id": "4b5c6e0b",
   "metadata": {},
   "source": [
    "Aside from the questionable prose in comments you'll notice that we are not *importing* modules to support our code. \n",
    "\n",
    "In Python, import statements let you bring in useful code from other modules instead of writing everything yourself. Think of it like grabbing a tool from a toolbox:\n",
    "\n",
    "If you need square roots, you import `math`.\n",
    "\n",
    "If you need random numbers, you import `random`.\n",
    "\n",
    "If you want to work with files, JSON, or dates — there’s probably a module for it.\n",
    "\n",
    "This makes your code shorter, easier to read, and more reliable, since you’re reusing well-tested libraries. Without imports, you’d constantly rewrite the same functions, making your code harder to maintain and more error-prone."
   ]
  }
 ],
 "metadata": {
  "kernelspec": {
   "display_name": "Python 3",
   "language": "python",
   "name": "python3"
  },
  "language_info": {
   "codemirror_mode": {
    "name": "ipython",
    "version": 3
   },
   "file_extension": ".py",
   "mimetype": "text/x-python",
   "name": "python",
   "nbconvert_exporter": "python",
   "pygments_lexer": "ipython3",
   "version": "3.12.1"
  }
 },
 "nbformat": 4,
 "nbformat_minor": 5
}

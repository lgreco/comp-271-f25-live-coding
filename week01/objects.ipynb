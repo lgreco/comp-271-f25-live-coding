{
 "cells": [
  {
   "cell_type": "markdown",
   "id": "fb905806",
   "metadata": {},
   "source": [
    "# Objects\n",
    "\n",
    "Objects are a bunch of data with some attitude. Individuals like you and me are objects. We are data: our name, age, gender, credit score, income, traffic tickets, social security number, and dark secrets like a preference for pineapple on pizza.\n",
    "\n",
    "Our behavior is our attitude. It determines how we share the data we are, with others. We readily answer the question \"what's your name\" but we think twice before revealing our social security number.\n",
    "\n",
    "As objects, we use *judgement* to determine what information about ourselves to share freely with others and what to protect a bit. Ultimately, all information about ourselves in shareable under proper authority. For example, you may not disclose income and SSN to a stranger in the street. But you'll do so with a stranger behind the loan desk of a bank when it's time to buy a house.\n",
    "\n",
    "Objects can be also programmed. An object-program does not have judgement, so it can't really tell for itself what information to share and what not. Left on its own, an object will share *everything* about itself. \n",
    "\n",
    "To instill a semblance of judgement in object oriented programming, we use *encapsulation.* This is a technique to instruct an object what data to share and how to share them."
   ]
  }
 ],
 "metadata": {
  "language_info": {
   "name": "python"
  }
 },
 "nbformat": 4,
 "nbformat_minor": 5
}

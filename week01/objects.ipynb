{
 "cells": [
  {
   "cell_type": "markdown",
   "id": "fb905806",
   "metadata": {},
   "source": [
    "# Objects\n",
    "\n",
    "Objects are a bunch of data with some attitude. Individuals like you and me are objects. We are data: our name, age, gender, credit score, income, traffic tickets, social security number, and dark secrets like a preference for pineapple on pizza.\n",
    "\n",
    "Our behavior is our attitude. It determines how we share the data we are, with others. We readily answer the question \"what's your name\" but we think twice before revealing our social security number."
   ]
  }
 ],
 "metadata": {
  "language_info": {
   "name": "python"
  }
 },
 "nbformat": 4,
 "nbformat_minor": 5
}

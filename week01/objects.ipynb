{
 "cells": [
  {
   "cell_type": "markdown",
   "id": "fb905806",
   "metadata": {},
   "source": [
    "# Objects\n",
    "\n",
    "Objects are a bunch of data with some attitude. Individuals like you and me are objects. We are data: our name, age, gender, credit score, income, "
   ]
  }
 ],
 "metadata": {
  "language_info": {
   "name": "python"
  }
 },
 "nbformat": 4,
 "nbformat_minor": 5
}

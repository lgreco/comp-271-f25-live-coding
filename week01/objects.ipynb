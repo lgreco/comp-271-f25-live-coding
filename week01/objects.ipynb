{
 "cells": [
  {
   "cell_type": "markdown",
   "id": "fb905806",
   "metadata": {},
   "source": [
    "# Objects\n",
    "\n",
    "Objects are bundles of data with some attitude. Individuals like you and me are objects. We carry data: our name, age, gender, credit score, income, traffic tickets, social security number, and even secrets—like a taste for pineapple on pizza.\n",
    "\n",
    "Our behavior is our attitude. It governs how we share this data with others. We’ll readily answer “What’s your name?” but hesitate before revealing a social security number.\n",
    "\n",
    "As objects, we use *judgment* to decide what information to share freely and what to protect. Ultimately, all information can be shared under the right authority. For instance, you wouldn’t disclose your income or SSN to a stranger on the street—but you would share them with a stranger behind a bank’s loan desk when applying for a mortgage.\n",
    "\n",
    "Objects in programming, however, don’t have judgment. Left on their own, they’ll share *everything* about themselves.\n",
    "\n",
    "## Encapsulation\n",
    "\n",
    "To give objects a kind of judgment, object-oriented programming uses *encapsulation*. Encapsulation is the technique of specifying what data an object should expose and how it should share it.\n",
    "\n",
    "Consider the following simple object that describes a person. (For simplicity, I omit type hints; the full code can be found in [Person_Protected.py](./Person_Protected.py)).\n",
    "\n",
    "```python\n",
    "class Person:\n",
    "    def __init__(self, name, year_born):\n",
    "        self.name = name\n",
    "        self.year_born = year_born\n",
    "        self.__ssn = -1\n",
    "```\n",
    "\n",
    "The double underscores in the variable named `__ssn` signify that it's a protected data field. It cannot be divulged without some proper authorization. Double underscores *do not really protect* data fields. Instead they make them a bit more difficult to access through a technique called *name mangling*. The contents of `__ssn` are still accessible as `_Person.__ssn`. This is demonstrated in [Person_Implementation.py](./Person_Implementation.py).\n",
    "\n",
    "Python deliberately does not enforce strict encapsulation. Guido van Rossum, the creator of the language, once remarked “we are all adults here” to justify this design choice. His point was that developers are expected to respect the convention of marking certain fields as private rather than being forced by the interpreter. For this reason, many Python programmers use a single leading underscore to signal a private field, often avoiding name mangling altogether.\n",
    "\n",
    "Java, on the other hand, enforces strict encapsulation. This is demonstrated with three easy-to-follow programs listed here."
   ]
  }
 ],
 "metadata": {
  "kernelspec": {
   "display_name": "Python 3",
   "language": "python",
   "name": "python3"
  },
  "language_info": {
   "codemirror_mode": {
    "name": "ipython",
    "version": 3
   },
   "file_extension": ".py",
   "mimetype": "text/x-python",
   "name": "python",
   "nbconvert_exporter": "python",
   "pygments_lexer": "ipython3",
   "version": "3.12.1"
  }
 },
 "nbformat": 4,
 "nbformat_minor": 5
}

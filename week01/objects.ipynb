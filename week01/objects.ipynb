{
 "cells": [
  {
   "cell_type": "markdown",
   "id": "fb905806",
   "metadata": {},
   "source": [
    "# Objects\n",
    "\n",
    "Objects are bundles of data with some attitude. Individuals like you and me are objects. We carry data: our name, age, gender, credit score, income, traffic tickets, social security number, and even secrets—like a taste for pineapple on pizza.\n",
    "\n",
    "Our behavior is our attitude. It governs how we share this data with others. We’ll readily answer “What’s your name?” but hesitate before revealing a social security number.\n",
    "\n",
    "As objects, we use _judgment_ to decide what information to share freely and what to protect. Ultimately, all information can be shared under the right authority. For instance, you wouldn’t disclose your income or SSN to a stranger on the street—but you would share them with a stranger behind a bank’s loan desk when applying for a mortgage.\n",
    "\n",
    "Objects in programming, however, don’t have judgment. Left on their own, they’ll share _everything_ about themselves.\n",
    "\n",
    "## Encapsulation\n",
    "\n",
    "The closest things that objects has to judgement is called _encapsulation_ in object-oriented programming. Encapsulation is the technique of specifying what data and methods an object should expose and how it should share them.\n",
    "\n",
    "Consider the following simple object that describes a person. (For simplicity, I omit type hints; the full code can be found in [Person_Protected.py](./Person_Protected.py)).\n",
    "\n",
    "```python\n",
    "class Person:\n",
    "    def __init__(self, name, year_born):\n",
    "        self.name = name\n",
    "        self.year_born = year_born\n",
    "        self.__ssn = -1\n",
    "```\n",
    "\n",
    "The double underscores in the variable named `__ssn` signify that it's a protected data field. It cannot be divulged without some proper authorization. Double underscores _do not really protect_ data fields. Instead they make them a bit more difficult to access through a technique called _name mangling_. The contents of `__ssn` are still accessible as `_Person.__ssn`. This is demonstrated in [Person_Implementation.py](./Person_Implementation.py).\n",
    "\n",
    "Encapsulation also works for method names when we do not wish other programs to use them.\n",
    "\n",
    "Python deliberately does not enforce strict encapsulation. Guido van Rossum, the creator of the language, once remarked \"we are all adults here\" to justify this design choice. His point was that developers are expected to respect the convention of marking certain fields as private rather than being forced by the interpreter. For this reason, many Python programmers use a single leading underscore to signal a private field, often avoiding name mangling altogether.\n",
    "\n",
    "Java, on the other hand, enforces strict encapsulation. This is demonstrated with three easy-to-follow programs listed here.\n",
    "\n",
    "- [PersonExposed](./PersonExposed.java) is a `Person`-like object with all its fields exposed and accessible to everyone. There is very little safeguarding from unauthorized access.\n",
    "- [PersonProtected](./PersonProtected.java) is also a a `Person`-like object with all its fields exposed and accessible to everyone _except_ for the social security number which is declared `private`. This tells the compiler to not allow other programs direct access to `ssn`.\n",
    "- [PersonImplementation](./PersonImplementation.java) implements two simple objects using the classes above. It demonstrates that direct access to the ssn of the protected object will stop the program from even compiling.\n",
    "\n",
    "## Self reference\n",
    "\n",
    "In Python, `self` is not a keyword but a naming convention. It refers to the instance on which a method is called, giving access to the object’s attributes and other methods. When we define a method inside a class, we must explicitly include `self` as the first parameter so that Python passes the current object automatically during a call. \n",
    "\n",
    "We can use any other valid variable name as the first parameter to reference the object. For example, class `Person` in [Person_Protected.py](./Person_Protected.py) can be rewritten as shown below. The names `sake`, `tofu`, and `nori` replace `self` and the object works just fine.\n"
   ]
  },
  {
   "cell_type": "code",
   "execution_count": null,
   "id": "31889d77",
   "metadata": {},
   "outputs": [],
   "source": [
    "class Person:\n",
    "    def __init__(sake, name: str, year_born: int) -> None:\n",
    "        sake.name: str = name\n",
    "        sake.year_born: int = year_born\n",
    "        sake.__ssn: int = -1\n",
    "\n",
    "    def set_ssn(tofu, ssn: int) -> None:\n",
    "        tofu.__ssn = ssn\n",
    "\n",
    "    def get_ssn(nori) -> int:\n",
    "        return nori.__ssn\n",
    "\n",
    "\n",
    "if __name__ == \"__main__\":\n",
    "    test = Person(\"Bob\", 1985)\n",
    "    test.set_ssn(111223333)\n",
    "    print(test.get_ssn())"
   ]
  },
  {
   "cell_type": "markdown",
   "id": "50957899",
   "metadata": {},
   "source": [
    "While we could technically name the object anything (`this`, `me`, etc.), using `self` is the universally accepted style in Python, making code more readable and consistent across projects.\n"
   ]
  }
 ],
 "metadata": {
  "kernelspec": {
   "display_name": "Python 3",
   "language": "python",
   "name": "python3"
  },
  "language_info": {
   "codemirror_mode": {
    "name": "ipython",
    "version": 3
   },
   "file_extension": ".py",
   "mimetype": "text/x-python",
   "name": "python",
   "nbconvert_exporter": "python",
   "pygments_lexer": "ipython3",
   "version": "3.12.1"
  }
 },
 "nbformat": 4,
 "nbformat_minor": 5
}

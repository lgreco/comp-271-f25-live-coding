{
 "cells": [
  {
   "cell_type": "markdown",
   "id": "8114469a",
   "metadata": {},
   "source": [
    "# A simple node (or guest's hammock)\n"
   ]
  },
  {
   "cell_type": "code",
   "execution_count": 26,
   "id": "fe37dd1c",
   "metadata": {},
   "outputs": [],
   "source": [
    "class Guest:\n",
    "    def __init__(self, name: str):\n",
    "        self.name = name\n",
    "        self.next = None"
   ]
  },
  {
   "cell_type": "markdown",
   "id": "7253ddc5",
   "metadata": {},
   "source": [
    "# The hotel\n"
   ]
  },
  {
   "cell_type": "code",
   "execution_count": null,
   "id": "e9160819",
   "metadata": {},
   "outputs": [],
   "source": [
    "class HotelAlphabetical:\n",
    "\n",
    "    _NUMBER_OF_ROOMS = 4\n",
    "    _ASCII_OFFSET = ord(\"A\")  # 65\n",
    "    _DEFAULT_LOAD_THRESHOLD = 0.75\n",
    "    _RESIZE_BY = 2\n",
    "\n",
    "    def __init__(self):\n",
    "        self._underlying = [None] * self._NUMBER_OF_ROOMS\n",
    "        self._total_guests = 0\n",
    "        self._rooms_used = 0\n",
    "        self._load_factor = 0.0 # fraction of rooms occupied\n",
    "\n",
    "    def _get_load_factor(self):\n",
    "        return self._rooms_used / len(self._underlying)\n",
    "\n",
    "    def add(self, guest_name):\n",
    "        first_letter = guest_name.upper()[0]\n",
    "        index = ord(first_letter) % len(self._underlying)\n",
    "        # DEMO ONLY print(f\"This guest is going to room {index}\")\n",
    "        if index >= 0 and index < self._NUMBER_OF_ROOMS:\n",
    "            # ensured that the first character of guest name is actually\n",
    "            # an upper case letter. Encapsulate the guest in a node\n",
    "            new_guest = Guest(guest_name)\n",
    "            # !!!!!!!!!!!!!!!!!!!!!!!!!!!!!!!!!!!!!!!!!!!!!!!!!!!!!!!!!!\n",
    "            # Before adding a guest, check the load factor ... if it\n",
    "            # is going to exceed the threshold, resize first.\n",
    "            #!!!!!!!!!!!!!!!!!!!!!!!!!!!!!!!!!!!!!!!!!!!!!!!!!!!!!!!!!!!\n",
    "            # Now check is the room at position index is free\n",
    "            if self._underlying[index] is None:\n",
    "                # Room is free place your guest here.\n",
    "                self._underlying[index] = new_guest\n",
    "                self._rooms_used += 1\n",
    "            else:\n",
    "                new_guest.next = self._underlying[index]\n",
    "                self._underlying[index] = new_guest\n",
    "        self._total_guests += 1\n",
    "\n",
    "    def __str__(self):\n",
    "        hotel_string = f\"Your hotel has {len(self._underlying)} rooms.\"\n",
    "        hotel_string += f\"\\n{self._rooms_used} room(s) used currently.\"\n",
    "        hotel_string += f\"\\nNumber of guests: {self._total_guests}\"\n",
    "        hotel_string += f\"\\nCurrent load factor is {self._get_load_factor():.2f}, threshold is {self._DEFAULT_LOAD_THRESHOLD:.2f}\"\n",
    "        for room in range(len(self._underlying)):\n",
    "            hotel_string += f\"\\nRoom [{room}]: \"\n",
    "            if self._underlying[room] is not None:\n",
    "                guest = self._underlying[room]\n",
    "                while guest is not None:\n",
    "                    hotel_string += f\"{guest.name} --> \"\n",
    "                    guest = guest.next\n",
    "        return hotel_string"
   ]
  },
  {
   "cell_type": "code",
   "execution_count": 36,
   "id": "6cd270aa",
   "metadata": {},
   "outputs": [
    {
     "name": "stdout",
     "output_type": "stream",
     "text": [
      "Your hotel has 4 rooms.\n",
      "4 room(s) used currently.\n",
      "Number of guests: 11\n",
      "Current load factor is 1.00, threshold is 0.75\n",
      "Room [0]: Danny --> Taylor --> \n",
      "Room [1]: Elija --> Michael --> \n",
      "Room [2]: Boris --> Brad --> Bob --> Britney --> Jack --> Beyonce --> \n",
      "Room [3]: Kelsey --> \n"
     ]
    }
   ],
   "source": [
    "hotelCalifornia = HotelAlphabetical()\n",
    "hotelCalifornia.add(\"Michael\")\n",
    "hotelCalifornia.add(\"Beyonce\")\n",
    "hotelCalifornia.add(\"Elija\")\n",
    "hotelCalifornia.add(\"Taylor\")\n",
    "hotelCalifornia.add(\"Jack\")\n",
    "hotelCalifornia.add(\"Danny\")\n",
    "hotelCalifornia.add(\"Britney\")\n",
    "hotelCalifornia.add(\"Kelsey\")\n",
    "hotelCalifornia.add(\"Bob\"); hotelCalifornia.add(\"Brad\"); hotelCalifornia.add(\"Boris\")\n",
    "print(hotelCalifornia)"
   ]
  }
 ],
 "metadata": {
  "kernelspec": {
   "display_name": "Python 3",
   "language": "python",
   "name": "python3"
  },
  "language_info": {
   "codemirror_mode": {
    "name": "ipython",
    "version": 3
   },
   "file_extension": ".py",
   "mimetype": "text/x-python",
   "name": "python",
   "nbconvert_exporter": "python",
   "pygments_lexer": "ipython3",
   "version": "3.12.1"
  }
 },
 "nbformat": 4,
 "nbformat_minor": 5
}

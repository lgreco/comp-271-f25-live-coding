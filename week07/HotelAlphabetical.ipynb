{
 "cells": [
  {
   "cell_type": "markdown",
   "id": "8114469a",
   "metadata": {},
   "source": [
    "# A simple node (or guest's hammock)\n"
   ]
  },
  {
   "cell_type": "code",
   "execution_count": null,
   "id": "fe37dd1c",
   "metadata": {},
   "outputs": [],
   "source": [
    "class Node:\n",
    "    def __init__(self, name: str):\n",
    "        self.name = name\n",
    "        self.next = None"
   ]
  },
  {
   "cell_type": "markdown",
   "id": "7253ddc5",
   "metadata": {},
   "source": [
    "# The hotel\n"
   ]
  },
  {
   "cell_type": "code",
   "execution_count": null,
   "id": "e9160819",
   "metadata": {},
   "outputs": [],
   "source": [
    "class HotelAlphabetical:\n",
    "\n",
    "    _NUMBER_OF_LETTERS = 26\n",
    "    _ASCII_OFFSET = ord(\"A\")  # 65\n",
    "\n",
    "    def __init__(self):\n",
    "        self._underlying = [None] * self._NUMBER_OF_LETTERS\n",
    "        self._total_guests = 0\n",
    "        self._rooms_used = 0\n",
    "\n",
    "    def add(self, guest_name):\n",
    "        first_letter = guest_name.upper()[0]\n",
    "        index = ord(first_letter) - self._ASCII_OFFSET\n",
    "        if index >= 0 and index < self._NUMBER_OF_LETTERS:\n",
    "            # ensured that the first character of guest name is actually\n",
    "            # an upper case letter. Encapsulate the guest in a node\n",
    "            new_guest = Node(guest_name)\n",
    "            # Now check is the room at position index is free\n",
    "            if self._underlying is None:\n",
    "                # Room is free place your guest here.\n",
    "                self._underlying[index]\n",
    "                self._rooms_used += 1\n",
    "            else:\n",
    "                new_guest.next = self._underlying[index]\n",
    "                self._underlying[index] = new_guest\n",
    "        self._total_guests += 1\n"
   ]
  }
 ],
 "metadata": {
  "kernelspec": {
   "display_name": "Python 3",
   "language": "python",
   "name": "python3"
  },
  "language_info": {
   "codemirror_mode": {
    "name": "ipython",
    "version": 3
   },
   "file_extension": ".py",
   "mimetype": "text/x-python",
   "name": "python",
   "nbconvert_exporter": "python",
   "pygments_lexer": "ipython3",
   "version": "3.12.1"
  }
 },
 "nbformat": 4,
 "nbformat_minor": 5
}

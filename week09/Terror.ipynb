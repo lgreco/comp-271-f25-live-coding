{
 "cells": [
  {
   "cell_type": "markdown",
   "id": "87591db1",
   "metadata": {},
   "source": [
    "# Merge two sorted arrays\n"
   ]
  },
  {
   "cell_type": "code",
   "execution_count": null,
   "id": "905c9ab5",
   "metadata": {},
   "outputs": [
    {
     "name": "stdout",
     "output_type": "stream",
     "text": [
      "[1, 2, 3, 4, 5, 6, 7, 8, 9, 10]\n"
     ]
    }
   ],
   "source": [
    "def terror_with_arrays(a: list, b: list) -> list:\n",
    "    # Create the output array\n",
    "    c = [None] * (len(a) + len(b))\n",
    "    # Initialize pointers\n",
    "    i = j = k = 0  # pointers for a, b, c\n",
    "    # Traverse a and b together\n",
    "    while i < len(a) and j < len(b):\n",
    "        if a[i] < b[j]:\n",
    "            c[k] = a[i]\n",
    "            i += 1\n",
    "        else:\n",
    "            c[k] = b[j]\n",
    "            j += 1\n",
    "        k += 1\n",
    "    # The loop above ends when one of the arrays is exhausted\n",
    "    # We don't know which one, so we handle both cases\n",
    "    # First, assuming that array b is exhausted,\n",
    "    # we copy the rest of a into c\n",
    "    while i < len(a):  # when a is still in play\n",
    "        c[k] = a[i]\n",
    "        i += 1\n",
    "        k += 1\n",
    "    # Now, assuming that array a is exhausted,\n",
    "    # we copy the rest of b into c\n",
    "    while j < len(b):\n",
    "        c[k] = b[j]\n",
    "        j += 1\n",
    "        k += 1\n",
    "    # Done\n",
    "    return c\n",
    "\n",
    "\n",
    "if __name__ == \"__main__\":\n",
    "    a = [1, 3, 5, 7, 9]\n",
    "    b = [2, 4, 6, 8, 10]\n",
    "    print(terror_with_arrays(a, b))"
   ]
  },
  {
   "cell_type": "markdown",
   "id": "cc208e31",
   "metadata": {},
   "source": [
    "# Good prof, bad prof\n",
    "\n",
    "What does it mean when the _best_ professor of computer science at a college is also its _worst_ professor of computer science?\n"
   ]
  },
  {
   "cell_type": "code",
   "execution_count": null,
   "id": "3c68442e",
   "metadata": {},
   "outputs": [],
   "source": []
  }
 ],
 "metadata": {
  "kernelspec": {
   "display_name": "Python 3",
   "language": "python",
   "name": "python3"
  },
  "language_info": {
   "codemirror_mode": {
    "name": "ipython",
    "version": 3
   },
   "file_extension": ".py",
   "mimetype": "text/x-python",
   "name": "python",
   "nbconvert_exporter": "python",
   "pygments_lexer": "ipython3",
   "version": "3.12.1"
  }
 },
 "nbformat": 4,
 "nbformat_minor": 5
}
